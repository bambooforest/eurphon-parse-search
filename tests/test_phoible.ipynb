{
 "metadata": {
  "language_info": {
   "codemirror_mode": {
    "name": "ipython",
    "version": 3
   },
   "file_extension": ".py",
   "mimetype": "text/x-python",
   "name": "python",
   "nbconvert_exporter": "python",
   "pygments_lexer": "ipython3",
   "version": "3.9.1-final"
  },
  "orig_nbformat": 2,
  "kernelspec": {
   "name": "python3",
   "display_name": "Python 3.9.1 64-bit",
   "metadata": {
    "interpreter": {
     "hash": "aee8b7b246df8f9039afb4144a1f6fd8d2ca17a180786b69acc140d282b71a49"
    }
   }
  }
 },
 "nbformat": 4,
 "nbformat_minor": 2,
 "cells": [
  {
   "source": [
    "import pandas as pd"
   ],
   "cell_type": "code",
   "metadata": {},
   "execution_count": 1,
   "outputs": []
  },
  {
   "cell_type": "code",
   "execution_count": 2,
   "metadata": {},
   "outputs": [
    {
     "output_type": "execute_result",
     "data": {
      "text/plain": [
       "   InventoryID Glottocode ISO6393 LanguageName SpecificDialect    GlyphID  \\\n",
       "0            1   kore1280     kor       Korean             NaN       0068   \n",
       "1            1   kore1280     kor       Korean             NaN       006A   \n",
       "2            1   kore1280     kor       Korean             NaN       006B   \n",
       "3            1   kore1280     kor       Korean             NaN  006B+02B0   \n",
       "4            1   kore1280     kor       Korean             NaN  006B+02C0   \n",
       "\n",
       "  Phoneme Allophones Marginal SegmentClass  ... retractedTongueRoot  \\\n",
       "0       h      ç h ɦ      NaN    consonant  ...                   0   \n",
       "1       j          j      NaN    consonant  ...                   0   \n",
       "2       k     k̚ ɡ k      NaN    consonant  ...                   0   \n",
       "3      kʰ         kʰ      NaN    consonant  ...                   0   \n",
       "4      kˀ         kˀ      NaN    consonant  ...                   0   \n",
       "\n",
       "  advancedTongueRoot periodicGlottalSource epilaryngealSource spreadGlottis  \\\n",
       "0                  0                     -                  -             +   \n",
       "1                  0                     +                  -             -   \n",
       "2                  0                     -                  -             -   \n",
       "3                  0                     -                  -             +   \n",
       "4                  0                     -                  -             -   \n",
       "\n",
       "  constrictedGlottis fortis raisedLarynxEjective loweredLarynxImplosive click  \n",
       "0                  -      -                    -                      -     -  \n",
       "1                  -      -                    -                      -     -  \n",
       "2                  -      -                    -                      -     -  \n",
       "3                  -      -                    -                      -     -  \n",
       "4                  +      -                    -                      -     -  \n",
       "\n",
       "[5 rows x 48 columns]"
      ],
      "text/html": "<div>\n<style scoped>\n    .dataframe tbody tr th:only-of-type {\n        vertical-align: middle;\n    }\n\n    .dataframe tbody tr th {\n        vertical-align: top;\n    }\n\n    .dataframe thead th {\n        text-align: right;\n    }\n</style>\n<table border=\"1\" class=\"dataframe\">\n  <thead>\n    <tr style=\"text-align: right;\">\n      <th></th>\n      <th>InventoryID</th>\n      <th>Glottocode</th>\n      <th>ISO6393</th>\n      <th>LanguageName</th>\n      <th>SpecificDialect</th>\n      <th>GlyphID</th>\n      <th>Phoneme</th>\n      <th>Allophones</th>\n      <th>Marginal</th>\n      <th>SegmentClass</th>\n      <th>...</th>\n      <th>retractedTongueRoot</th>\n      <th>advancedTongueRoot</th>\n      <th>periodicGlottalSource</th>\n      <th>epilaryngealSource</th>\n      <th>spreadGlottis</th>\n      <th>constrictedGlottis</th>\n      <th>fortis</th>\n      <th>raisedLarynxEjective</th>\n      <th>loweredLarynxImplosive</th>\n      <th>click</th>\n    </tr>\n  </thead>\n  <tbody>\n    <tr>\n      <th>0</th>\n      <td>1</td>\n      <td>kore1280</td>\n      <td>kor</td>\n      <td>Korean</td>\n      <td>NaN</td>\n      <td>0068</td>\n      <td>h</td>\n      <td>ç h ɦ</td>\n      <td>NaN</td>\n      <td>consonant</td>\n      <td>...</td>\n      <td>0</td>\n      <td>0</td>\n      <td>-</td>\n      <td>-</td>\n      <td>+</td>\n      <td>-</td>\n      <td>-</td>\n      <td>-</td>\n      <td>-</td>\n      <td>-</td>\n    </tr>\n    <tr>\n      <th>1</th>\n      <td>1</td>\n      <td>kore1280</td>\n      <td>kor</td>\n      <td>Korean</td>\n      <td>NaN</td>\n      <td>006A</td>\n      <td>j</td>\n      <td>j</td>\n      <td>NaN</td>\n      <td>consonant</td>\n      <td>...</td>\n      <td>0</td>\n      <td>0</td>\n      <td>+</td>\n      <td>-</td>\n      <td>-</td>\n      <td>-</td>\n      <td>-</td>\n      <td>-</td>\n      <td>-</td>\n      <td>-</td>\n    </tr>\n    <tr>\n      <th>2</th>\n      <td>1</td>\n      <td>kore1280</td>\n      <td>kor</td>\n      <td>Korean</td>\n      <td>NaN</td>\n      <td>006B</td>\n      <td>k</td>\n      <td>k̚ ɡ k</td>\n      <td>NaN</td>\n      <td>consonant</td>\n      <td>...</td>\n      <td>0</td>\n      <td>0</td>\n      <td>-</td>\n      <td>-</td>\n      <td>-</td>\n      <td>-</td>\n      <td>-</td>\n      <td>-</td>\n      <td>-</td>\n      <td>-</td>\n    </tr>\n    <tr>\n      <th>3</th>\n      <td>1</td>\n      <td>kore1280</td>\n      <td>kor</td>\n      <td>Korean</td>\n      <td>NaN</td>\n      <td>006B+02B0</td>\n      <td>kʰ</td>\n      <td>kʰ</td>\n      <td>NaN</td>\n      <td>consonant</td>\n      <td>...</td>\n      <td>0</td>\n      <td>0</td>\n      <td>-</td>\n      <td>-</td>\n      <td>+</td>\n      <td>-</td>\n      <td>-</td>\n      <td>-</td>\n      <td>-</td>\n      <td>-</td>\n    </tr>\n    <tr>\n      <th>4</th>\n      <td>1</td>\n      <td>kore1280</td>\n      <td>kor</td>\n      <td>Korean</td>\n      <td>NaN</td>\n      <td>006B+02C0</td>\n      <td>kˀ</td>\n      <td>kˀ</td>\n      <td>NaN</td>\n      <td>consonant</td>\n      <td>...</td>\n      <td>0</td>\n      <td>0</td>\n      <td>-</td>\n      <td>-</td>\n      <td>-</td>\n      <td>+</td>\n      <td>-</td>\n      <td>-</td>\n      <td>-</td>\n      <td>-</td>\n    </tr>\n  </tbody>\n</table>\n<p>5 rows × 48 columns</p>\n</div>"
     },
     "metadata": {},
     "execution_count": 2
    }
   ],
   "source": [
    "phoible = pd.read_csv('data/phoible.csv')\n",
    "phoible.head()"
   ]
  },
  {
   "cell_type": "code",
   "execution_count": 3,
   "metadata": {},
   "outputs": [
    {
     "output_type": "execute_result",
     "data": {
      "text/plain": [
       "array(['a', 'aː', 'e', ..., 'aːɪ', 'ɑʊ̯', 'uœ'], dtype=object)"
      ]
     },
     "metadata": {},
     "execution_count": 3
    }
   ],
   "source": [
    "vowels = phoible.loc[phoible.SegmentClass == 'vowel'].Phoneme.unique()\n",
    "vowels"
   ]
  },
  {
   "cell_type": "code",
   "execution_count": 4,
   "metadata": {},
   "outputs": [
    {
     "output_type": "execute_result",
     "data": {
      "text/plain": [
       "array(['h', 'j', 'k', ..., 'ɳʷ', 'ʈʷ', 'r̺͈'], dtype=object)"
      ]
     },
     "metadata": {},
     "execution_count": 4
    }
   ],
   "source": [
    "consonants = phoible.loc[phoible.SegmentClass == 'consonant'].Phoneme.unique()\n",
    "consonants"
   ]
  },
  {
   "cell_type": "code",
   "execution_count": 13,
   "metadata": {},
   "outputs": [],
   "source": [
    "from lark.exceptions import UnexpectedCharacters\n",
    "import IPAParser_3_0\n",
    "\n",
    "parser = IPAParser_3_0.IPAParser()"
   ]
  },
  {
   "cell_type": "code",
   "execution_count": 6,
   "metadata": {},
   "outputs": [
    {
     "output_type": "stream",
     "name": "stdout",
     "text": [
      "Success\n"
     ]
    }
   ],
   "source": [
    "for vowel in vowels:\n",
    "    try:\n",
    "        parser.parse(vowel)\n",
    "    except UnexpectedCharacters as e:\n",
    "        print(vowel)\n",
    "        break\n",
    "else:\n",
    "    print('Success')"
   ]
  },
  {
   "cell_type": "code",
   "execution_count": 14,
   "metadata": {},
   "outputs": [
    {
     "output_type": "stream",
     "name": "stdout",
     "text": [
      "Other error: r Error trying to process rule \"consonant\":\n\n'Tree' object has no attribute 'glyph'\n"
     ]
    }
   ],
   "source": [
    "for consonant in consonants:\n",
    "    try:\n",
    "        parser.parse(consonant)\n",
    "    except UnexpectedCharacters as e:\n",
    "        print(consonant, e)\n",
    "        break\n",
    "    except Exception as e:\n",
    "        print(f'Other error: {consonant} {e}')\n",
    "        break\n",
    "else:\n",
    "    print('Success')"
   ]
  }
 ]
}